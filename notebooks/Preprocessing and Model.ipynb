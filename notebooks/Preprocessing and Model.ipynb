{
  "nbformat": 4,
  "nbformat_minor": 0,
  "metadata": {
    "colab": {
      "name": "Deep_breath - Model ",
      "provenance": [],
      "toc_visible": true,
      "machine_shape": "hm",
      "collapsed_sections": []
    },
    "kernelspec": {
      "name": "python3",
      "display_name": "Python 3"
    },
    "language_info": {
      "name": "python"
    },
    "accelerator": "GPU"
  },
  "cells": [
    {
      "cell_type": "code",
      "source": [
        "import pandas as pd\n",
        "import librosa as lb\n",
        "import soundfile as sf\n",
        "import tensorflow_addons as tfa\n",
        "import tensorflow_io as tfio\n",
        "import tensorflow as tf\n",
        "import numpy as np\n",
        "import pandas as pd\n",
        "import matplotlib.pyplot as plt\n",
        "from sklearn.model_selection import train_test_split\n",
        "from tensorflow.keras import models, Sequential, layers, optimizers, callbacks\n",
        "from tensorflow.keras.layers import Dense, Reshape\n",
        "from tensorflow.keras.callbacks import EarlyStopping\n",
        "from tensorflow.keras.metrics import Recall\n",
        "import sklearn\n",
        "import seaborn as sns\n",
        "from tensorflow_addons.metrics import F1Score\n",
        "from sklearn.metrics import classification_report\n",
        "from tensorflow.keras.optimizers import Adam"
      ],
      "metadata": {
        "id": "r5psoDlGN65B"
      },
      "execution_count": null,
      "outputs": []
    },
    {
      "cell_type": "code",
      "source": [
        "from google.colab import drive\n",
        "drive.mount('/content/drive/')"
      ],
      "metadata": {
        "colab": {
          "base_uri": "https://localhost:8080/"
        },
        "id": "RwdDXuUqNpID",
        "outputId": "71967139-800a-48c3-c2fd-bc6a427ae8e9"
      },
      "execution_count": null,
      "outputs": [
        {
          "output_type": "stream",
          "name": "stdout",
          "text": [
            "Mounted at /content/drive/\n"
          ]
        }
      ]
    },
    {
      "cell_type": "code",
      "source": [
        "### --- Data --- ###\n",
        "ROOT_PATH = 'drive/MyDrive/Deep_Breath/'\n",
        "PROCESSED_DF = ROOT_PATH + 'processed_dataframe/label_data1.csv'\n",
        "PROCESSED_AUDIO_FOLDER = ROOT_PATH + 'processed_audio_files'\n",
        "\n",
        "### --- Dataset --- ###\n",
        "AUTOTUNE = tf.data.experimental.AUTOTUNE\n",
        "BATCH_SIZE = 32"
      ],
      "metadata": {
        "id": "52MKMgYaNGXD"
      },
      "execution_count": null,
      "outputs": []
    },
    {
      "cell_type": "markdown",
      "source": [
        "# Part 1 : Split the audio\n",
        "\n",
        "There are a total of 960 audio files in this dataset with varying length(10s-90s). They all together contain more than 6000 respiratory cycles. \n",
        "\n",
        "Objecive: splitting each individual sound file into seprate sound clips containing respiiratory cycle. This allows our model to take a closer look at each respiratory cycle and learn better! "
      ],
      "metadata": {
        "id": "4uVKpH3G5NP0"
      }
    },
    {
      "cell_type": "markdown",
      "source": [
        "## 1.1 Load the Data"
      ],
      "metadata": {
        "id": "cpWa_nfQPwSX"
      }
    },
    {
      "cell_type": "code",
      "source": [
        "audio_df = pd.read_csv('/content/drive/My Drive/Deep_Breath/raw_data/archive/Respiratory_Sound_Database/audio_and_txt_files/combined.txt', sep='\\t', \n",
        "                          names = ['start', \"end\", 'crackles','wheezes', 'filename'])\n",
        "\n",
        "\n",
        "for index, row in audio_df.iterrows():\n",
        "  temp = row['filename'] .strip('.txt')\n",
        "  audio_df.loc[index, 'filename'] = temp"
      ],
      "metadata": {
        "id": "Zv_9LZUU5pDj"
      },
      "execution_count": null,
      "outputs": []
    },
    {
      "cell_type": "code",
      "source": [
        "audio_df.head()"
      ],
      "metadata": {
        "colab": {
          "base_uri": "https://localhost:8080/",
          "height": 206
        },
        "id": "-EYDiQOY52tX",
        "outputId": "23672c6e-6f6c-4ded-d276-60e9d7a9f7e4"
      },
      "execution_count": null,
      "outputs": [
        {
          "output_type": "execute_result",
          "data": {
            "text/plain": [
              "   start    end  crackles  wheezes                filename\n",
              "0  0.036  0.579         0        0  101_1b1_Al_sc_Meditron\n",
              "1  0.579  2.450         0        0  101_1b1_Al_sc_Meditron\n",
              "2  2.450  3.893         0        0  101_1b1_Al_sc_Meditron\n",
              "3  3.893  5.793         0        0  101_1b1_Al_sc_Meditron\n",
              "4  5.793  7.521         0        0  101_1b1_Al_sc_Meditron"
            ],
            "text/html": [
              "\n",
              "  <div id=\"df-04ee0e1a-4dfa-45d4-b831-f39855cd6d7e\">\n",
              "    <div class=\"colab-df-container\">\n",
              "      <div>\n",
              "<style scoped>\n",
              "    .dataframe tbody tr th:only-of-type {\n",
              "        vertical-align: middle;\n",
              "    }\n",
              "\n",
              "    .dataframe tbody tr th {\n",
              "        vertical-align: top;\n",
              "    }\n",
              "\n",
              "    .dataframe thead th {\n",
              "        text-align: right;\n",
              "    }\n",
              "</style>\n",
              "<table border=\"1\" class=\"dataframe\">\n",
              "  <thead>\n",
              "    <tr style=\"text-align: right;\">\n",
              "      <th></th>\n",
              "      <th>start</th>\n",
              "      <th>end</th>\n",
              "      <th>crackles</th>\n",
              "      <th>wheezes</th>\n",
              "      <th>filename</th>\n",
              "    </tr>\n",
              "  </thead>\n",
              "  <tbody>\n",
              "    <tr>\n",
              "      <th>0</th>\n",
              "      <td>0.036</td>\n",
              "      <td>0.579</td>\n",
              "      <td>0</td>\n",
              "      <td>0</td>\n",
              "      <td>101_1b1_Al_sc_Meditron</td>\n",
              "    </tr>\n",
              "    <tr>\n",
              "      <th>1</th>\n",
              "      <td>0.579</td>\n",
              "      <td>2.450</td>\n",
              "      <td>0</td>\n",
              "      <td>0</td>\n",
              "      <td>101_1b1_Al_sc_Meditron</td>\n",
              "    </tr>\n",
              "    <tr>\n",
              "      <th>2</th>\n",
              "      <td>2.450</td>\n",
              "      <td>3.893</td>\n",
              "      <td>0</td>\n",
              "      <td>0</td>\n",
              "      <td>101_1b1_Al_sc_Meditron</td>\n",
              "    </tr>\n",
              "    <tr>\n",
              "      <th>3</th>\n",
              "      <td>3.893</td>\n",
              "      <td>5.793</td>\n",
              "      <td>0</td>\n",
              "      <td>0</td>\n",
              "      <td>101_1b1_Al_sc_Meditron</td>\n",
              "    </tr>\n",
              "    <tr>\n",
              "      <th>4</th>\n",
              "      <td>5.793</td>\n",
              "      <td>7.521</td>\n",
              "      <td>0</td>\n",
              "      <td>0</td>\n",
              "      <td>101_1b1_Al_sc_Meditron</td>\n",
              "    </tr>\n",
              "  </tbody>\n",
              "</table>\n",
              "</div>\n",
              "      <button class=\"colab-df-convert\" onclick=\"convertToInteractive('df-04ee0e1a-4dfa-45d4-b831-f39855cd6d7e')\"\n",
              "              title=\"Convert this dataframe to an interactive table.\"\n",
              "              style=\"display:none;\">\n",
              "        \n",
              "  <svg xmlns=\"http://www.w3.org/2000/svg\" height=\"24px\"viewBox=\"0 0 24 24\"\n",
              "       width=\"24px\">\n",
              "    <path d=\"M0 0h24v24H0V0z\" fill=\"none\"/>\n",
              "    <path d=\"M18.56 5.44l.94 2.06.94-2.06 2.06-.94-2.06-.94-.94-2.06-.94 2.06-2.06.94zm-11 1L8.5 8.5l.94-2.06 2.06-.94-2.06-.94L8.5 2.5l-.94 2.06-2.06.94zm10 10l.94 2.06.94-2.06 2.06-.94-2.06-.94-.94-2.06-.94 2.06-2.06.94z\"/><path d=\"M17.41 7.96l-1.37-1.37c-.4-.4-.92-.59-1.43-.59-.52 0-1.04.2-1.43.59L10.3 9.45l-7.72 7.72c-.78.78-.78 2.05 0 2.83L4 21.41c.39.39.9.59 1.41.59.51 0 1.02-.2 1.41-.59l7.78-7.78 2.81-2.81c.8-.78.8-2.07 0-2.86zM5.41 20L4 18.59l7.72-7.72 1.47 1.35L5.41 20z\"/>\n",
              "  </svg>\n",
              "      </button>\n",
              "      \n",
              "  <style>\n",
              "    .colab-df-container {\n",
              "      display:flex;\n",
              "      flex-wrap:wrap;\n",
              "      gap: 12px;\n",
              "    }\n",
              "\n",
              "    .colab-df-convert {\n",
              "      background-color: #E8F0FE;\n",
              "      border: none;\n",
              "      border-radius: 50%;\n",
              "      cursor: pointer;\n",
              "      display: none;\n",
              "      fill: #1967D2;\n",
              "      height: 32px;\n",
              "      padding: 0 0 0 0;\n",
              "      width: 32px;\n",
              "    }\n",
              "\n",
              "    .colab-df-convert:hover {\n",
              "      background-color: #E2EBFA;\n",
              "      box-shadow: 0px 1px 2px rgba(60, 64, 67, 0.3), 0px 1px 3px 1px rgba(60, 64, 67, 0.15);\n",
              "      fill: #174EA6;\n",
              "    }\n",
              "\n",
              "    [theme=dark] .colab-df-convert {\n",
              "      background-color: #3B4455;\n",
              "      fill: #D2E3FC;\n",
              "    }\n",
              "\n",
              "    [theme=dark] .colab-df-convert:hover {\n",
              "      background-color: #434B5C;\n",
              "      box-shadow: 0px 1px 3px 1px rgba(0, 0, 0, 0.15);\n",
              "      filter: drop-shadow(0px 1px 2px rgba(0, 0, 0, 0.3));\n",
              "      fill: #FFFFFF;\n",
              "    }\n",
              "  </style>\n",
              "\n",
              "      <script>\n",
              "        const buttonEl =\n",
              "          document.querySelector('#df-04ee0e1a-4dfa-45d4-b831-f39855cd6d7e button.colab-df-convert');\n",
              "        buttonEl.style.display =\n",
              "          google.colab.kernel.accessAllowed ? 'block' : 'none';\n",
              "\n",
              "        async function convertToInteractive(key) {\n",
              "          const element = document.querySelector('#df-04ee0e1a-4dfa-45d4-b831-f39855cd6d7e');\n",
              "          const dataTable =\n",
              "            await google.colab.kernel.invokeFunction('convertToInteractive',\n",
              "                                                     [key], {});\n",
              "          if (!dataTable) return;\n",
              "\n",
              "          const docLinkHtml = 'Like what you see? Visit the ' +\n",
              "            '<a target=\"_blank\" href=https://colab.research.google.com/notebooks/data_table.ipynb>data table notebook</a>'\n",
              "            + ' to learn more about interactive tables.';\n",
              "          element.innerHTML = '';\n",
              "          dataTable['output_type'] = 'display_data';\n",
              "          await google.colab.output.renderOutput(dataTable, element);\n",
              "          const docLink = document.createElement('div');\n",
              "          docLink.innerHTML = docLinkHtml;\n",
              "          element.appendChild(docLink);\n",
              "        }\n",
              "      </script>\n",
              "    </div>\n",
              "  </div>\n",
              "  "
            ]
          },
          "metadata": {},
          "execution_count": 6
        }
      ]
    },
    {
      "cell_type": "markdown",
      "source": [
        "## 1.2 Understand the length distribution of reaspiratory cycle"
      ],
      "metadata": {
        "id": "driySZfD59j7"
      }
    },
    {
      "cell_type": "code",
      "source": [
        "'''Objective : calculate the duraction of each respiratory cycle'''\n",
        "\n",
        "audio_df['Duration'] =audio_df['end'] - audio_df['start']"
      ],
      "metadata": {
        "id": "1qV8rEc76B7d"
      },
      "execution_count": null,
      "outputs": []
    },
    {
      "cell_type": "code",
      "source": [
        "for index, row in audio_df.iterrows():\n",
        "    temp_list = []\n",
        "    temp_list.append(row['filename'].split(\"_\"))\n",
        "    audio_df.loc[index, 'Patient number'] = temp_list[0][0]\n",
        "    \n",
        "audio_df['Patient number'] =  audio_df['Patient number'].astype(int)"
      ],
      "metadata": {
        "id": "6A1MWZXw6KRB"
      },
      "execution_count": null,
      "outputs": []
    },
    {
      "cell_type": "code",
      "source": [
        "audio_df.head()"
      ],
      "metadata": {
        "colab": {
          "base_uri": "https://localhost:8080/",
          "height": 206
        },
        "id": "L6Su8do36UOS",
        "outputId": "478eb53a-34f1-4af8-a3e7-e12f224725d6"
      },
      "execution_count": null,
      "outputs": [
        {
          "output_type": "execute_result",
          "data": {
            "text/plain": [
              "   start    end  crackles  wheezes                filename  Duration  \\\n",
              "0  0.036  0.579         0        0  101_1b1_Al_sc_Meditron     0.543   \n",
              "1  0.579  2.450         0        0  101_1b1_Al_sc_Meditron     1.871   \n",
              "2  2.450  3.893         0        0  101_1b1_Al_sc_Meditron     1.443   \n",
              "3  3.893  5.793         0        0  101_1b1_Al_sc_Meditron     1.900   \n",
              "4  5.793  7.521         0        0  101_1b1_Al_sc_Meditron     1.728   \n",
              "\n",
              "   Patient number  \n",
              "0             101  \n",
              "1             101  \n",
              "2             101  \n",
              "3             101  \n",
              "4             101  "
            ],
            "text/html": [
              "\n",
              "  <div id=\"df-e2cfb72d-d1c5-4173-a84e-6e32606ee492\">\n",
              "    <div class=\"colab-df-container\">\n",
              "      <div>\n",
              "<style scoped>\n",
              "    .dataframe tbody tr th:only-of-type {\n",
              "        vertical-align: middle;\n",
              "    }\n",
              "\n",
              "    .dataframe tbody tr th {\n",
              "        vertical-align: top;\n",
              "    }\n",
              "\n",
              "    .dataframe thead th {\n",
              "        text-align: right;\n",
              "    }\n",
              "</style>\n",
              "<table border=\"1\" class=\"dataframe\">\n",
              "  <thead>\n",
              "    <tr style=\"text-align: right;\">\n",
              "      <th></th>\n",
              "      <th>start</th>\n",
              "      <th>end</th>\n",
              "      <th>crackles</th>\n",
              "      <th>wheezes</th>\n",
              "      <th>filename</th>\n",
              "      <th>Duration</th>\n",
              "      <th>Patient number</th>\n",
              "    </tr>\n",
              "  </thead>\n",
              "  <tbody>\n",
              "    <tr>\n",
              "      <th>0</th>\n",
              "      <td>0.036</td>\n",
              "      <td>0.579</td>\n",
              "      <td>0</td>\n",
              "      <td>0</td>\n",
              "      <td>101_1b1_Al_sc_Meditron</td>\n",
              "      <td>0.543</td>\n",
              "      <td>101</td>\n",
              "    </tr>\n",
              "    <tr>\n",
              "      <th>1</th>\n",
              "      <td>0.579</td>\n",
              "      <td>2.450</td>\n",
              "      <td>0</td>\n",
              "      <td>0</td>\n",
              "      <td>101_1b1_Al_sc_Meditron</td>\n",
              "      <td>1.871</td>\n",
              "      <td>101</td>\n",
              "    </tr>\n",
              "    <tr>\n",
              "      <th>2</th>\n",
              "      <td>2.450</td>\n",
              "      <td>3.893</td>\n",
              "      <td>0</td>\n",
              "      <td>0</td>\n",
              "      <td>101_1b1_Al_sc_Meditron</td>\n",
              "      <td>1.443</td>\n",
              "      <td>101</td>\n",
              "    </tr>\n",
              "    <tr>\n",
              "      <th>3</th>\n",
              "      <td>3.893</td>\n",
              "      <td>5.793</td>\n",
              "      <td>0</td>\n",
              "      <td>0</td>\n",
              "      <td>101_1b1_Al_sc_Meditron</td>\n",
              "      <td>1.900</td>\n",
              "      <td>101</td>\n",
              "    </tr>\n",
              "    <tr>\n",
              "      <th>4</th>\n",
              "      <td>5.793</td>\n",
              "      <td>7.521</td>\n",
              "      <td>0</td>\n",
              "      <td>0</td>\n",
              "      <td>101_1b1_Al_sc_Meditron</td>\n",
              "      <td>1.728</td>\n",
              "      <td>101</td>\n",
              "    </tr>\n",
              "  </tbody>\n",
              "</table>\n",
              "</div>\n",
              "      <button class=\"colab-df-convert\" onclick=\"convertToInteractive('df-e2cfb72d-d1c5-4173-a84e-6e32606ee492')\"\n",
              "              title=\"Convert this dataframe to an interactive table.\"\n",
              "              style=\"display:none;\">\n",
              "        \n",
              "  <svg xmlns=\"http://www.w3.org/2000/svg\" height=\"24px\"viewBox=\"0 0 24 24\"\n",
              "       width=\"24px\">\n",
              "    <path d=\"M0 0h24v24H0V0z\" fill=\"none\"/>\n",
              "    <path d=\"M18.56 5.44l.94 2.06.94-2.06 2.06-.94-2.06-.94-.94-2.06-.94 2.06-2.06.94zm-11 1L8.5 8.5l.94-2.06 2.06-.94-2.06-.94L8.5 2.5l-.94 2.06-2.06.94zm10 10l.94 2.06.94-2.06 2.06-.94-2.06-.94-.94-2.06-.94 2.06-2.06.94z\"/><path d=\"M17.41 7.96l-1.37-1.37c-.4-.4-.92-.59-1.43-.59-.52 0-1.04.2-1.43.59L10.3 9.45l-7.72 7.72c-.78.78-.78 2.05 0 2.83L4 21.41c.39.39.9.59 1.41.59.51 0 1.02-.2 1.41-.59l7.78-7.78 2.81-2.81c.8-.78.8-2.07 0-2.86zM5.41 20L4 18.59l7.72-7.72 1.47 1.35L5.41 20z\"/>\n",
              "  </svg>\n",
              "      </button>\n",
              "      \n",
              "  <style>\n",
              "    .colab-df-container {\n",
              "      display:flex;\n",
              "      flex-wrap:wrap;\n",
              "      gap: 12px;\n",
              "    }\n",
              "\n",
              "    .colab-df-convert {\n",
              "      background-color: #E8F0FE;\n",
              "      border: none;\n",
              "      border-radius: 50%;\n",
              "      cursor: pointer;\n",
              "      display: none;\n",
              "      fill: #1967D2;\n",
              "      height: 32px;\n",
              "      padding: 0 0 0 0;\n",
              "      width: 32px;\n",
              "    }\n",
              "\n",
              "    .colab-df-convert:hover {\n",
              "      background-color: #E2EBFA;\n",
              "      box-shadow: 0px 1px 2px rgba(60, 64, 67, 0.3), 0px 1px 3px 1px rgba(60, 64, 67, 0.15);\n",
              "      fill: #174EA6;\n",
              "    }\n",
              "\n",
              "    [theme=dark] .colab-df-convert {\n",
              "      background-color: #3B4455;\n",
              "      fill: #D2E3FC;\n",
              "    }\n",
              "\n",
              "    [theme=dark] .colab-df-convert:hover {\n",
              "      background-color: #434B5C;\n",
              "      box-shadow: 0px 1px 3px 1px rgba(0, 0, 0, 0.15);\n",
              "      filter: drop-shadow(0px 1px 2px rgba(0, 0, 0, 0.3));\n",
              "      fill: #FFFFFF;\n",
              "    }\n",
              "  </style>\n",
              "\n",
              "      <script>\n",
              "        const buttonEl =\n",
              "          document.querySelector('#df-e2cfb72d-d1c5-4173-a84e-6e32606ee492 button.colab-df-convert');\n",
              "        buttonEl.style.display =\n",
              "          google.colab.kernel.accessAllowed ? 'block' : 'none';\n",
              "\n",
              "        async function convertToInteractive(key) {\n",
              "          const element = document.querySelector('#df-e2cfb72d-d1c5-4173-a84e-6e32606ee492');\n",
              "          const dataTable =\n",
              "            await google.colab.kernel.invokeFunction('convertToInteractive',\n",
              "                                                     [key], {});\n",
              "          if (!dataTable) return;\n",
              "\n",
              "          const docLinkHtml = 'Like what you see? Visit the ' +\n",
              "            '<a target=\"_blank\" href=https://colab.research.google.com/notebooks/data_table.ipynb>data table notebook</a>'\n",
              "            + ' to learn more about interactive tables.';\n",
              "          element.innerHTML = '';\n",
              "          dataTable['output_type'] = 'display_data';\n",
              "          await google.colab.output.renderOutput(dataTable, element);\n",
              "          const docLink = document.createElement('div');\n",
              "          docLink.innerHTML = docLinkHtml;\n",
              "          element.appendChild(docLink);\n",
              "        }\n",
              "      </script>\n",
              "    </div>\n",
              "  </div>\n",
              "  "
            ]
          },
          "metadata": {},
          "execution_count": 11
        }
      ]
    },
    {
      "cell_type": "code",
      "source": [
        "'''Objective : visualise the length distribution of respiratory cycle'''\n",
        "\n",
        "sns.histplot(audio_df['Duration']);"
      ],
      "metadata": {
        "colab": {
          "base_uri": "https://localhost:8080/",
          "height": 279
        },
        "id": "H9EJ34ii6WoC",
        "outputId": "0ea7bba0-8152-4d8f-e319-d0c2321d1ace"
      },
      "execution_count": null,
      "outputs": [
        {
          "output_type": "display_data",
          "data": {
            "text/plain": [
              "<Figure size 432x288 with 1 Axes>"
            ],
            "image/png": "[encoded data removed]"
          },
          "metadata": {
            "needs_background": "light"
          }
        }
      ]
    },
    {
      "cell_type": "markdown",
      "source": [
        "\n",
        "Separate sound clips ➡️   1️⃣   respiratory cycle each\n",
        "\n",
        "6-second long 👍🏻 \n",
        "\n",
        "97% of respiratory cycles are within 6-second long. It is a suitable length as it won't lose a lot of information while it can save the computational cost and allow our model to learn better.\n"
      ],
      "metadata": {
        "id": "1cvrXhj-6dtD"
      }
    },
    {
      "cell_type": "markdown",
      "source": [
        "## 1.3 Split audio and save the processed audio\n"
      ],
      "metadata": {
        "id": "2BeUZUz_6llO"
      }
    },
    {
      "cell_type": "code",
      "source": [
        "def getPureSample(raw_data,start,end,sr=22050):\n",
        "    '''\n",
        "    Takes a numpy array and splits its using start and end args\n",
        "    \n",
        "    raw_data=numpy array of audio sample\n",
        "    start=time\n",
        "    end=time\n",
        "    sr=sampling_rate\n",
        "    mode=mono/stereo\n",
        "    \n",
        "    '''\n",
        "    max_ind = len(raw_data) \n",
        "    start_ind = min(int(start * sr), max_ind)\n",
        "    end_ind = min(int(end * sr), max_ind)\n",
        "    return raw_data[start_ind: end_ind]"
      ],
      "metadata": {
        "id": "7wtbWING6o3t"
      },
      "execution_count": null,
      "outputs": []
    },
    {
      "cell_type": "code",
      "source": [
        "path = ROOT_PATH +'raw_data/archive/Respiratory_Sound_Database/Respiratory_Sound_Database/audio_and_txt_files/'"
      ],
      "metadata": {
        "id": "gNFQc3dP6reA"
      },
      "execution_count": null,
      "outputs": []
    },
    {
      "cell_type": "code",
      "source": [
        "i,c=0,0\n",
        "for index,row in audio_df.iterrows():\n",
        "    maxLen=6\n",
        "    start=row['start']\n",
        "    end=row['end']\n",
        "    filename=row['filename']\n",
        "    \n",
        "    #If len > maxLen , change it to maxLen\n",
        "    if end-start>maxLen:\n",
        "        end=start+maxLen\n",
        "    \n",
        "    audio_file_loc=path + filename + '.wav'\n",
        "    \n",
        "    if index > 0:\n",
        "        #check if more cycles exits for same patient if so then add i to change filename\n",
        "        if data.iloc[index-1]['filename']==filename:\n",
        "            i+=1\n",
        "        else:\n",
        "            i=0\n",
        "    filename= filename + '_' + str(i) + '.wav'\n",
        "    \n",
        "    save_path=main +'processed_audio_files/' + filename\n",
        "    c+=1\n",
        "    try :\n",
        "      audioArr,sampleRate=lb.load(audio_file_loc)\n",
        "      pureSample=getPureSample(audioArr,start,end,sampleRate)\n",
        "      \n",
        "      #pad audio if pureSample len < max_len\n",
        "      reqLen=6*sampleRate\n",
        "      padded_data = lb.util.pad_center(pureSample, reqLen)\n",
        "      \n",
        "      sf.write(file=save_path,data=padded_data,samplerate=sampleRate)\n",
        "    except :\n",
        "      print('An exception occured on the file :' , audio_file_loc)\n",
        "print('Total Files Processed: ',c)"
      ],
      "metadata": {
        "id": "7uSb_KgH7Aq2"
      },
      "execution_count": null,
      "outputs": []
    },
    {
      "cell_type": "markdown",
      "source": [
        "## 1.4 Update file name & file path and save the dataframe"
      ],
      "metadata": {
        "id": "xN93N1Up7R1U"
      }
    },
    {
      "cell_type": "code",
      "source": [
        "i=0\n",
        "for index,row in audio_df.iterrows():\n",
        "    filename=row['filename']\n",
        "    if audio_df.iloc[index-1]['filename']==filename:\n",
        "      i+=1\n",
        "    else:\n",
        "      i=0\n",
        "\n",
        "    audio_df.loc[index, 'new_filename'] = filename + '_' + str(i) + '.wav'"
      ],
      "metadata": {
        "id": "xZKJy4Yl7V_3"
      },
      "execution_count": null,
      "outputs": []
    },
    {
      "cell_type": "code",
      "source": [
        "def add_path(df):\n",
        "    for index, row in df.iterrows():\n",
        "      df.loc[index, 'Path'] = ROOT_PATH + 'processed_audio_files/' + row['filename']\n",
        "    \n",
        "add_path(audio_df)"
      ],
      "metadata": {
        "id": "CBzuoyoJ7c0z"
      },
      "execution_count": null,
      "outputs": []
    },
    {
      "cell_type": "code",
      "source": [
        "audio_df = audio_df.drop(columns = ['filename', 'start', 'end', 'Duration']).rename(columns ={'new_filename': 'filename'})"
      ],
      "metadata": {
        "id": "9U8JHFYV7m4o"
      },
      "execution_count": null,
      "outputs": []
    },
    {
      "cell_type": "code",
      "source": [
        "audio_df.head()"
      ],
      "metadata": {
        "colab": {
          "base_uri": "https://localhost:8080/",
          "height": 206
        },
        "id": "kOgr556C7sqP",
        "outputId": "6c72bbb9-6a88-409e-e484-eb123b04aa24"
      },
      "execution_count": null,
      "outputs": [
        {
          "output_type": "execute_result",
          "data": {
            "text/plain": [
              "   crackles  wheezes  Patient number                      filename  \\\n",
              "0         0        0             101  101_1b1_Al_sc_Meditron_0.wav   \n",
              "1         0        0             101  101_1b1_Al_sc_Meditron_1.wav   \n",
              "2         0        0             101  101_1b1_Al_sc_Meditron_2.wav   \n",
              "3         0        0             101  101_1b1_Al_sc_Meditron_3.wav   \n",
              "4         0        0             101  101_1b1_Al_sc_Meditron_4.wav   \n",
              "\n",
              "                                                Path  \n",
              "0  drive/MyDrive/Deep_Breath/processed_audio_file...  \n",
              "1  drive/MyDrive/Deep_Breath/processed_audio_file...  \n",
              "2  drive/MyDrive/Deep_Breath/processed_audio_file...  \n",
              "3  drive/MyDrive/Deep_Breath/processed_audio_file...  \n",
              "4  drive/MyDrive/Deep_Breath/processed_audio_file...  "
            ],
            "text/html": [
              "\n",
              "  <div id=\"df-d43a917f-48e6-4547-b801-79c588970c1a\">\n",
              "    <div class=\"colab-df-container\">\n",
              "      <div>\n",
              "<style scoped>\n",
              "    .dataframe tbody tr th:only-of-type {\n",
              "        vertical-align: middle;\n",
              "    }\n",
              "\n",
              "    .dataframe tbody tr th {\n",
              "        vertical-align: top;\n",
              "    }\n",
              "\n",
              "    .dataframe thead th {\n",
              "        text-align: right;\n",
              "    }\n",
              "</style>\n",
              "<table border=\"1\" class=\"dataframe\">\n",
              "  <thead>\n",
              "    <tr style=\"text-align: right;\">\n",
              "      <th></th>\n",
              "      <th>crackles</th>\n",
              "      <th>wheezes</th>\n",
              "      <th>Patient number</th>\n",
              "      <th>filename</th>\n",
              "      <th>Path</th>\n",
              "    </tr>\n",
              "  </thead>\n",
              "  <tbody>\n",
              "    <tr>\n",
              "      <th>0</th>\n",
              "      <td>0</td>\n",
              "      <td>0</td>\n",
              "      <td>101</td>\n",
              "      <td>101_1b1_Al_sc_Meditron_0.wav</td>\n",
              "      <td>drive/MyDrive/Deep_Breath/processed_audio_file...</td>\n",
              "    </tr>\n",
              "    <tr>\n",
              "      <th>1</th>\n",
              "      <td>0</td>\n",
              "      <td>0</td>\n",
              "      <td>101</td>\n",
              "      <td>101_1b1_Al_sc_Meditron_1.wav</td>\n",
              "      <td>drive/MyDrive/Deep_Breath/processed_audio_file...</td>\n",
              "    </tr>\n",
              "    <tr>\n",
              "      <th>2</th>\n",
              "      <td>0</td>\n",
              "      <td>0</td>\n",
              "      <td>101</td>\n",
              "      <td>101_1b1_Al_sc_Meditron_2.wav</td>\n",
              "      <td>drive/MyDrive/Deep_Breath/processed_audio_file...</td>\n",
              "    </tr>\n",
              "    <tr>\n",
              "      <th>3</th>\n",
              "      <td>0</td>\n",
              "      <td>0</td>\n",
              "      <td>101</td>\n",
              "      <td>101_1b1_Al_sc_Meditron_3.wav</td>\n",
              "      <td>drive/MyDrive/Deep_Breath/processed_audio_file...</td>\n",
              "    </tr>\n",
              "    <tr>\n",
              "      <th>4</th>\n",
              "      <td>0</td>\n",
              "      <td>0</td>\n",
              "      <td>101</td>\n",
              "      <td>101_1b1_Al_sc_Meditron_4.wav</td>\n",
              "      <td>drive/MyDrive/Deep_Breath/processed_audio_file...</td>\n",
              "    </tr>\n",
              "  </tbody>\n",
              "</table>\n",
              "</div>\n",
              "      <button class=\"colab-df-convert\" onclick=\"convertToInteractive('df-d43a917f-48e6-4547-b801-79c588970c1a')\"\n",
              "              title=\"Convert this dataframe to an interactive table.\"\n",
              "              style=\"display:none;\">\n",
              "        \n",
              "  <svg xmlns=\"http://www.w3.org/2000/svg\" height=\"24px\"viewBox=\"0 0 24 24\"\n",
              "       width=\"24px\">\n",
              "    <path d=\"M0 0h24v24H0V0z\" fill=\"none\"/>\n",
              "    <path d=\"M18.56 5.44l.94 2.06.94-2.06 2.06-.94-2.06-.94-.94-2.06-.94 2.06-2.06.94zm-11 1L8.5 8.5l.94-2.06 2.06-.94-2.06-.94L8.5 2.5l-.94 2.06-2.06.94zm10 10l.94 2.06.94-2.06 2.06-.94-2.06-.94-.94-2.06-.94 2.06-2.06.94z\"/><path d=\"M17.41 7.96l-1.37-1.37c-.4-.4-.92-.59-1.43-.59-.52 0-1.04.2-1.43.59L10.3 9.45l-7.72 7.72c-.78.78-.78 2.05 0 2.83L4 21.41c.39.39.9.59 1.41.59.51 0 1.02-.2 1.41-.59l7.78-7.78 2.81-2.81c.8-.78.8-2.07 0-2.86zM5.41 20L4 18.59l7.72-7.72 1.47 1.35L5.41 20z\"/>\n",
              "  </svg>\n",
              "      </button>\n",
              "      \n",
              "  <style>\n",
              "    .colab-df-container {\n",
              "      display:flex;\n",
              "      flex-wrap:wrap;\n",
              "      gap: 12px;\n",
              "    }\n",
              "\n",
              "    .colab-df-convert {\n",
              "      background-color: #E8F0FE;\n",
              "      border: none;\n",
              "      border-radius: 50%;\n",
              "      cursor: pointer;\n",
              "      display: none;\n",
              "      fill: #1967D2;\n",
              "      height: 32px;\n",
              "      padding: 0 0 0 0;\n",
              "      width: 32px;\n",
              "    }\n",
              "\n",
              "    .colab-df-convert:hover {\n",
              "      background-color: #E2EBFA;\n",
              "      box-shadow: 0px 1px 2px rgba(60, 64, 67, 0.3), 0px 1px 3px 1px rgba(60, 64, 67, 0.15);\n",
              "      fill: #174EA6;\n",
              "    }\n",
              "\n",
              "    [theme=dark] .colab-df-convert {\n",
              "      background-color: #3B4455;\n",
              "      fill: #D2E3FC;\n",
              "    }\n",
              "\n",
              "    [theme=dark] .colab-df-convert:hover {\n",
              "      background-color: #434B5C;\n",
              "      box-shadow: 0px 1px 3px 1px rgba(0, 0, 0, 0.15);\n",
              "      filter: drop-shadow(0px 1px 2px rgba(0, 0, 0, 0.3));\n",
              "      fill: #FFFFFF;\n",
              "    }\n",
              "  </style>\n",
              "\n",
              "      <script>\n",
              "        const buttonEl =\n",
              "          document.querySelector('#df-d43a917f-48e6-4547-b801-79c588970c1a button.colab-df-convert');\n",
              "        buttonEl.style.display =\n",
              "          google.colab.kernel.accessAllowed ? 'block' : 'none';\n",
              "\n",
              "        async function convertToInteractive(key) {\n",
              "          const element = document.querySelector('#df-d43a917f-48e6-4547-b801-79c588970c1a');\n",
              "          const dataTable =\n",
              "            await google.colab.kernel.invokeFunction('convertToInteractive',\n",
              "                                                     [key], {});\n",
              "          if (!dataTable) return;\n",
              "\n",
              "          const docLinkHtml = 'Like what you see? Visit the ' +\n",
              "            '<a target=\"_blank\" href=https://colab.research.google.com/notebooks/data_table.ipynb>data table notebook</a>'\n",
              "            + ' to learn more about interactive tables.';\n",
              "          element.innerHTML = '';\n",
              "          dataTable['output_type'] = 'display_data';\n",
              "          await google.colab.output.renderOutput(dataTable, element);\n",
              "          const docLink = document.createElement('div');\n",
              "          docLink.innerHTML = docLinkHtml;\n",
              "          element.appendChild(docLink);\n",
              "        }\n",
              "      </script>\n",
              "    </div>\n",
              "  </div>\n",
              "  "
            ]
          },
          "metadata": {},
          "execution_count": 25
        }
      ]
    },
    {
      "cell_type": "code",
      "source": [
        "'''save the dataframe'''\n",
        "audio_df.to_csv(ROOT_PATH+'processed_dataframe/label_data1.csv',index=False)"
      ],
      "metadata": {
        "id": "HAMhogqn7xsY"
      },
      "execution_count": null,
      "outputs": []
    },
    {
      "cell_type": "markdown",
      "source": [
        "# Part 2: Prepare dataset \n",
        "\n",
        "Objective 1: make a more balanced dataset\n",
        "\n",
        "\n",
        "Objective 2: label our targets\n",
        "\n",
        "\n",
        "Objective 3: prepare train/test/val dataset"
      ],
      "metadata": {
        "id": "AuVSQT6D5p6d"
      }
    },
    {
      "cell_type": "markdown",
      "source": [
        "## 2.1 Load the data"
      ],
      "metadata": {
        "id": "Ul4NJWPb-jp4"
      }
    },
    {
      "cell_type": "code",
      "source": [
        "diagnosis_df = pd.read_csv('/content/drive/My Drive/Deep_Breath/raw_data/archive/Respiratory_Sound_Database/patient_diagnosis.csv',  names=['Patient number', \"Diagnosis\"])\n",
        "diagnosis_df.head()\n",
        "data = pd.read_csv(PROCESSED_DF)\n",
        "data = data.merge(diagnosis_df, on = 'Patient number')\n",
        "data.head()"
      ],
      "metadata": {
        "id": "Zbfj36cDNJaN",
        "colab": {
          "base_uri": "https://localhost:8080/",
          "height": 206
        },
        "outputId": "581b04c6-ed81-41a2-8b8d-df144bb7ef51"
      },
      "execution_count": null,
      "outputs": [
        {
          "output_type": "execute_result",
          "data": {
            "text/plain": [
              "   crackles  wheezes  Patient number                      filename  \\\n",
              "0         0        0             101  101_1b1_Al_sc_Meditron_0.wav   \n",
              "1         0        0             101  101_1b1_Al_sc_Meditron_1.wav   \n",
              "2         0        0             101  101_1b1_Al_sc_Meditron_2.wav   \n",
              "3         0        0             101  101_1b1_Al_sc_Meditron_3.wav   \n",
              "4         0        0             101  101_1b1_Al_sc_Meditron_4.wav   \n",
              "\n",
              "                                                Path Diagnosis  \n",
              "0  drive/MyDrive/Deep_Breath/processed_audio_file...      URTI  \n",
              "1  drive/MyDrive/Deep_Breath/processed_audio_file...      URTI  \n",
              "2  drive/MyDrive/Deep_Breath/processed_audio_file...      URTI  \n",
              "3  drive/MyDrive/Deep_Breath/processed_audio_file...      URTI  \n",
              "4  drive/MyDrive/Deep_Breath/processed_audio_file...      URTI  "
            ],
            "text/html": [
              "\n",
              "  <div id=\"df-3bca89c4-e5dd-44b5-bea4-ba606bca771f\">\n",
              "    <div class=\"colab-df-container\">\n",
              "      <div>\n",
              "<style scoped>\n",
              "    .dataframe tbody tr th:only-of-type {\n",
              "        vertical-align: middle;\n",
              "    }\n",
              "\n",
              "    .dataframe tbody tr th {\n",
              "        vertical-align: top;\n",
              "    }\n",
              "\n",
              "    .dataframe thead th {\n",
              "        text-align: right;\n",
              "    }\n",
              "</style>\n",
              "<table border=\"1\" class=\"dataframe\">\n",
              "  <thead>\n",
              "    <tr style=\"text-align: right;\">\n",
              "      <th></th>\n",
              "      <th>crackles</th>\n",
              "      <th>wheezes</th>\n",
              "      <th>Patient number</th>\n",
              "      <th>filename</th>\n",
              "      <th>Path</th>\n",
              "      <th>Diagnosis</th>\n",
              "    </tr>\n",
              "  </thead>\n",
              "  <tbody>\n",
              "    <tr>\n",
              "      <th>0</th>\n",
              "      <td>0</td>\n",
              "      <td>0</td>\n",
              "      <td>101</td>\n",
              "      <td>101_1b1_Al_sc_Meditron_0.wav</td>\n",
              "      <td>drive/MyDrive/Deep_Breath/processed_audio_file...</td>\n",
              "      <td>URTI</td>\n",
              "    </tr>\n",
              "    <tr>\n",
              "      <th>1</th>\n",
              "      <td>0</td>\n",
              "      <td>0</td>\n",
              "      <td>101</td>\n",
              "      <td>101_1b1_Al_sc_Meditron_1.wav</td>\n",
              "      <td>drive/MyDrive/Deep_Breath/processed_audio_file...</td>\n",
              "      <td>URTI</td>\n",
              "    </tr>\n",
              "    <tr>\n",
              "      <th>2</th>\n",
              "      <td>0</td>\n",
              "      <td>0</td>\n",
              "      <td>101</td>\n",
              "      <td>101_1b1_Al_sc_Meditron_2.wav</td>\n",
              "      <td>drive/MyDrive/Deep_Breath/processed_audio_file...</td>\n",
              "      <td>URTI</td>\n",
              "    </tr>\n",
              "    <tr>\n",
              "      <th>3</th>\n",
              "      <td>0</td>\n",
              "      <td>0</td>\n",
              "      <td>101</td>\n",
              "      <td>101_1b1_Al_sc_Meditron_3.wav</td>\n",
              "      <td>drive/MyDrive/Deep_Breath/processed_audio_file...</td>\n",
              "      <td>URTI</td>\n",
              "    </tr>\n",
              "    <tr>\n",
              "      <th>4</th>\n",
              "      <td>0</td>\n",
              "      <td>0</td>\n",
              "      <td>101</td>\n",
              "      <td>101_1b1_Al_sc_Meditron_4.wav</td>\n",
              "      <td>drive/MyDrive/Deep_Breath/processed_audio_file...</td>\n",
              "      <td>URTI</td>\n",
              "    </tr>\n",
              "  </tbody>\n",
              "</table>\n",
              "</div>\n",
              "      <button class=\"colab-df-convert\" onclick=\"convertToInteractive('df-3bca89c4-e5dd-44b5-bea4-ba606bca771f')\"\n",
              "              title=\"Convert this dataframe to an interactive table.\"\n",
              "              style=\"display:none;\">\n",
              "        \n",
              "  <svg xmlns=\"http://www.w3.org/2000/svg\" height=\"24px\"viewBox=\"0 0 24 24\"\n",
              "       width=\"24px\">\n",
              "    <path d=\"M0 0h24v24H0V0z\" fill=\"none\"/>\n",
              "    <path d=\"M18.56 5.44l.94 2.06.94-2.06 2.06-.94-2.06-.94-.94-2.06-.94 2.06-2.06.94zm-11 1L8.5 8.5l.94-2.06 2.06-.94-2.06-.94L8.5 2.5l-.94 2.06-2.06.94zm10 10l.94 2.06.94-2.06 2.06-.94-2.06-.94-.94-2.06-.94 2.06-2.06.94z\"/><path d=\"M17.41 7.96l-1.37-1.37c-.4-.4-.92-.59-1.43-.59-.52 0-1.04.2-1.43.59L10.3 9.45l-7.72 7.72c-.78.78-.78 2.05 0 2.83L4 21.41c.39.39.9.59 1.41.59.51 0 1.02-.2 1.41-.59l7.78-7.78 2.81-2.81c.8-.78.8-2.07 0-2.86zM5.41 20L4 18.59l7.72-7.72 1.47 1.35L5.41 20z\"/>\n",
              "  </svg>\n",
              "      </button>\n",
              "      \n",
              "  <style>\n",
              "    .colab-df-container {\n",
              "      display:flex;\n",
              "      flex-wrap:wrap;\n",
              "      gap: 12px;\n",
              "    }\n",
              "\n",
              "    .colab-df-convert {\n",
              "      background-color: #E8F0FE;\n",
              "      border: none;\n",
              "      border-radius: 50%;\n",
              "      cursor: pointer;\n",
              "      display: none;\n",
              "      fill: #1967D2;\n",
              "      height: 32px;\n",
              "      padding: 0 0 0 0;\n",
              "      width: 32px;\n",
              "    }\n",
              "\n",
              "    .colab-df-convert:hover {\n",
              "      background-color: #E2EBFA;\n",
              "      box-shadow: 0px 1px 2px rgba(60, 64, 67, 0.3), 0px 1px 3px 1px rgba(60, 64, 67, 0.15);\n",
              "      fill: #174EA6;\n",
              "    }\n",
              "\n",
              "    [theme=dark] .colab-df-convert {\n",
              "      background-color: #3B4455;\n",
              "      fill: #D2E3FC;\n",
              "    }\n",
              "\n",
              "    [theme=dark] .colab-df-convert:hover {\n",
              "      background-color: #434B5C;\n",
              "      box-shadow: 0px 1px 3px 1px rgba(0, 0, 0, 0.15);\n",
              "      filter: drop-shadow(0px 1px 2px rgba(0, 0, 0, 0.3));\n",
              "      fill: #FFFFFF;\n",
              "    }\n",
              "  </style>\n",
              "\n",
              "      <script>\n",
              "        const buttonEl =\n",
              "          document.querySelector('#df-3bca89c4-e5dd-44b5-bea4-ba606bca771f button.colab-df-convert');\n",
              "        buttonEl.style.display =\n",
              "          google.colab.kernel.accessAllowed ? 'block' : 'none';\n",
              "\n",
              "        async function convertToInteractive(key) {\n",
              "          const element = document.querySelector('#df-3bca89c4-e5dd-44b5-bea4-ba606bca771f');\n",
              "          const dataTable =\n",
              "            await google.colab.kernel.invokeFunction('convertToInteractive',\n",
              "                                                     [key], {});\n",
              "          if (!dataTable) return;\n",
              "\n",
              "          const docLinkHtml = 'Like what you see? Visit the ' +\n",
              "            '<a target=\"_blank\" href=https://colab.research.google.com/notebooks/data_table.ipynb>data table notebook</a>'\n",
              "            + ' to learn more about interactive tables.';\n",
              "          element.innerHTML = '';\n",
              "          dataTable['output_type'] = 'display_data';\n",
              "          await google.colab.output.renderOutput(dataTable, element);\n",
              "          const docLink = document.createElement('div');\n",
              "          docLink.innerHTML = docLinkHtml;\n",
              "          element.appendChild(docLink);\n",
              "        }\n",
              "      </script>\n",
              "    </div>\n",
              "  </div>\n",
              "  "
            ]
          },
          "metadata": {},
          "execution_count": 29
        }
      ]
    },
    {
      "cell_type": "markdown",
      "source": [
        "## 2.2 Preprocess the data and label the targets"
      ],
      "metadata": {
        "id": "DMkhu68TTfPB"
      }
    },
    {
      "cell_type": "markdown",
      "source": [
        "Since very little patients were diagnosed with Asthma and LRTI (the two lowest disease class), it is decided to remove the data relating to these two disease classes. Our model now targets at conducting 6 classifications. This can help our model to perform better ✌\n",
        "\n",
        "\n"
      ],
      "metadata": {
        "id": "MBkw5jXmVnVF"
      }
    },
    {
      "cell_type": "code",
      "source": [
        "''' Drop the data'''\n",
        "data = data[data['Diagnosis']!= 'Asthma']\n",
        "data = data[data['Diagnosis']!= 'LRTI']\n"
      ],
      "metadata": {
        "id": "qbqHnfPNVmQP"
      },
      "execution_count": null,
      "outputs": []
    },
    {
      "cell_type": "code",
      "source": [
        "''' Label the targets '''\n",
        "disease_dict = {'COPD':0,\n",
        "                'Healthy':1,\n",
        "                'URTI':2,\n",
        "                'Bronchiectasis':3,\n",
        "                'Bronchiolitis':4,\n",
        "                'Pneumonia':5}\n",
        "\n",
        "data['multi_disease_label'] = data['Diagnosis'].map(disease_dict)"
      ],
      "metadata": {
        "id": "6MiWxQRMTq29"
      },
      "execution_count": null,
      "outputs": []
    },
    {
      "cell_type": "code",
      "source": [
        "data.head()"
      ],
      "metadata": {
        "colab": {
          "base_uri": "https://localhost:8080/",
          "height": 288
        },
        "id": "l4O6wwjsaAEC",
        "outputId": "394c3b54-a3ff-4d9d-9f4e-6f8e7ff5122b"
      },
      "execution_count": null,
      "outputs": [
        {
          "output_type": "execute_result",
          "data": {
            "text/plain": [
              "   crackles  wheezes  Patient number                      filename  \\\n",
              "0         0        0             101  101_1b1_Al_sc_Meditron_0.wav   \n",
              "1         0        0             101  101_1b1_Al_sc_Meditron_1.wav   \n",
              "2         0        0             101  101_1b1_Al_sc_Meditron_2.wav   \n",
              "3         0        0             101  101_1b1_Al_sc_Meditron_3.wav   \n",
              "4         0        0             101  101_1b1_Al_sc_Meditron_4.wav   \n",
              "\n",
              "                                                Path Diagnosis  \\\n",
              "0  drive/MyDrive/Deep_Breath/processed_audio_file...      URTI   \n",
              "1  drive/MyDrive/Deep_Breath/processed_audio_file...      URTI   \n",
              "2  drive/MyDrive/Deep_Breath/processed_audio_file...      URTI   \n",
              "3  drive/MyDrive/Deep_Breath/processed_audio_file...      URTI   \n",
              "4  drive/MyDrive/Deep_Breath/processed_audio_file...      URTI   \n",
              "\n",
              "   multi_disease_label  \n",
              "0                    2  \n",
              "1                    2  \n",
              "2                    2  \n",
              "3                    2  \n",
              "4                    2  "
            ],
            "text/html": [
              "\n",
              "  <div id=\"df-7075b641-4ea0-45a0-8f9e-062dd40be9f7\">\n",
              "    <div class=\"colab-df-container\">\n",
              "      <div>\n",
              "<style scoped>\n",
              "    .dataframe tbody tr th:only-of-type {\n",
              "        vertical-align: middle;\n",
              "    }\n",
              "\n",
              "    .dataframe tbody tr th {\n",
              "        vertical-align: top;\n",
              "    }\n",
              "\n",
              "    .dataframe thead th {\n",
              "        text-align: right;\n",
              "    }\n",
              "</style>\n",
              "<table border=\"1\" class=\"dataframe\">\n",
              "  <thead>\n",
              "    <tr style=\"text-align: right;\">\n",
              "      <th></th>\n",
              "      <th>crackles</th>\n",
              "      <th>wheezes</th>\n",
              "      <th>Patient number</th>\n",
              "      <th>filename</th>\n",
              "      <th>Path</th>\n",
              "      <th>Diagnosis</th>\n",
              "      <th>multi_disease_label</th>\n",
              "    </tr>\n",
              "  </thead>\n",
              "  <tbody>\n",
              "    <tr>\n",
              "      <th>0</th>\n",
              "      <td>0</td>\n",
              "      <td>0</td>\n",
              "      <td>101</td>\n",
              "      <td>101_1b1_Al_sc_Meditron_0.wav</td>\n",
              "      <td>drive/MyDrive/Deep_Breath/processed_audio_file...</td>\n",
              "      <td>URTI</td>\n",
              "      <td>2</td>\n",
              "    </tr>\n",
              "    <tr>\n",
              "      <th>1</th>\n",
              "      <td>0</td>\n",
              "      <td>0</td>\n",
              "      <td>101</td>\n",
              "      <td>101_1b1_Al_sc_Meditron_1.wav</td>\n",
              "      <td>drive/MyDrive/Deep_Breath/processed_audio_file...</td>\n",
              "      <td>URTI</td>\n",
              "      <td>2</td>\n",
              "    </tr>\n",
              "    <tr>\n",
              "      <th>2</th>\n",
              "      <td>0</td>\n",
              "      <td>0</td>\n",
              "      <td>101</td>\n",
              "      <td>101_1b1_Al_sc_Meditron_2.wav</td>\n",
              "      <td>drive/MyDrive/Deep_Breath/processed_audio_file...</td>\n",
              "      <td>URTI</td>\n",
              "      <td>2</td>\n",
              "    </tr>\n",
              "    <tr>\n",
              "      <th>3</th>\n",
              "      <td>0</td>\n",
              "      <td>0</td>\n",
              "      <td>101</td>\n",
              "      <td>101_1b1_Al_sc_Meditron_3.wav</td>\n",
              "      <td>drive/MyDrive/Deep_Breath/processed_audio_file...</td>\n",
              "      <td>URTI</td>\n",
              "      <td>2</td>\n",
              "    </tr>\n",
              "    <tr>\n",
              "      <th>4</th>\n",
              "      <td>0</td>\n",
              "      <td>0</td>\n",
              "      <td>101</td>\n",
              "      <td>101_1b1_Al_sc_Meditron_4.wav</td>\n",
              "      <td>drive/MyDrive/Deep_Breath/processed_audio_file...</td>\n",
              "      <td>URTI</td>\n",
              "      <td>2</td>\n",
              "    </tr>\n",
              "  </tbody>\n",
              "</table>\n",
              "</div>\n",
              "      <button class=\"colab-df-convert\" onclick=\"convertToInteractive('df-7075b641-4ea0-45a0-8f9e-062dd40be9f7')\"\n",
              "              title=\"Convert this dataframe to an interactive table.\"\n",
              "              style=\"display:none;\">\n",
              "        \n",
              "  <svg xmlns=\"http://www.w3.org/2000/svg\" height=\"24px\"viewBox=\"0 0 24 24\"\n",
              "       width=\"24px\">\n",
              "    <path d=\"M0 0h24v24H0V0z\" fill=\"none\"/>\n",
              "    <path d=\"M18.56 5.44l.94 2.06.94-2.06 2.06-.94-2.06-.94-.94-2.06-.94 2.06-2.06.94zm-11 1L8.5 8.5l.94-2.06 2.06-.94-2.06-.94L8.5 2.5l-.94 2.06-2.06.94zm10 10l.94 2.06.94-2.06 2.06-.94-2.06-.94-.94-2.06-.94 2.06-2.06.94z\"/><path d=\"M17.41 7.96l-1.37-1.37c-.4-.4-.92-.59-1.43-.59-.52 0-1.04.2-1.43.59L10.3 9.45l-7.72 7.72c-.78.78-.78 2.05 0 2.83L4 21.41c.39.39.9.59 1.41.59.51 0 1.02-.2 1.41-.59l7.78-7.78 2.81-2.81c.8-.78.8-2.07 0-2.86zM5.41 20L4 18.59l7.72-7.72 1.47 1.35L5.41 20z\"/>\n",
              "  </svg>\n",
              "      </button>\n",
              "      \n",
              "  <style>\n",
              "    .colab-df-container {\n",
              "      display:flex;\n",
              "      flex-wrap:wrap;\n",
              "      gap: 12px;\n",
              "    }\n",
              "\n",
              "    .colab-df-convert {\n",
              "      background-color: #E8F0FE;\n",
              "      border: none;\n",
              "      border-radius: 50%;\n",
              "      cursor: pointer;\n",
              "      display: none;\n",
              "      fill: #1967D2;\n",
              "      height: 32px;\n",
              "      padding: 0 0 0 0;\n",
              "      width: 32px;\n",
              "    }\n",
              "\n",
              "    .colab-df-convert:hover {\n",
              "      background-color: #E2EBFA;\n",
              "      box-shadow: 0px 1px 2px rgba(60, 64, 67, 0.3), 0px 1px 3px 1px rgba(60, 64, 67, 0.15);\n",
              "      fill: #174EA6;\n",
              "    }\n",
              "\n",
              "    [theme=dark] .colab-df-convert {\n",
              "      background-color: #3B4455;\n",
              "      fill: #D2E3FC;\n",
              "    }\n",
              "\n",
              "    [theme=dark] .colab-df-convert:hover {\n",
              "      background-color: #434B5C;\n",
              "      box-shadow: 0px 1px 3px 1px rgba(0, 0, 0, 0.15);\n",
              "      filter: drop-shadow(0px 1px 2px rgba(0, 0, 0, 0.3));\n",
              "      fill: #FFFFFF;\n",
              "    }\n",
              "  </style>\n",
              "\n",
              "      <script>\n",
              "        const buttonEl =\n",
              "          document.querySelector('#df-7075b641-4ea0-45a0-8f9e-062dd40be9f7 button.colab-df-convert');\n",
              "        buttonEl.style.display =\n",
              "          google.colab.kernel.accessAllowed ? 'block' : 'none';\n",
              "\n",
              "        async function convertToInteractive(key) {\n",
              "          const element = document.querySelector('#df-7075b641-4ea0-45a0-8f9e-062dd40be9f7');\n",
              "          const dataTable =\n",
              "            await google.colab.kernel.invokeFunction('convertToInteractive',\n",
              "                                                     [key], {});\n",
              "          if (!dataTable) return;\n",
              "\n",
              "          const docLinkHtml = 'Like what you see? Visit the ' +\n",
              "            '<a target=\"_blank\" href=https://colab.research.google.com/notebooks/data_table.ipynb>data table notebook</a>'\n",
              "            + ' to learn more about interactive tables.';\n",
              "          element.innerHTML = '';\n",
              "          dataTable['output_type'] = 'display_data';\n",
              "          await google.colab.output.renderOutput(dataTable, element);\n",
              "          const docLink = document.createElement('div');\n",
              "          docLink.innerHTML = docLinkHtml;\n",
              "          element.appendChild(docLink);\n",
              "        }\n",
              "      </script>\n",
              "    </div>\n",
              "  </div>\n",
              "  "
            ]
          },
          "metadata": {},
          "execution_count": 32
        }
      ]
    },
    {
      "cell_type": "code",
      "source": [
        "'''Understand the distribution of diagnosis associated with respiratory cycle'''\n",
        "plt.figure(figsize=(10,6))\n",
        "sns.countplot(x=data['Diagnosis'])"
      ],
      "metadata": {
        "colab": {
          "base_uri": "https://localhost:8080/",
          "height": 407
        },
        "id": "lvsl7bjUbalS",
        "outputId": "14898f34-7489-4921-c9e7-5bd87eabc7b1"
      },
      "execution_count": null,
      "outputs": [
        {
          "output_type": "execute_result",
          "data": {
            "text/plain": [
              "<matplotlib.axes._subplots.AxesSubplot at 0x7f5fb7ab7650>"
            ]
          },
          "metadata": {},
          "execution_count": 33
        },
        {
          "output_type": "display_data",
          "data": {
            "text/plain": [
              "<Figure size 720x432 with 1 Axes>"
            ],
            "image/png": "[encoded data removed]"
          },
          "metadata": {
            "needs_background": "light"
          }
        }
      ]
    },
    {
      "cell_type": "markdown",
      "source": [
        "The dataset is highly imbalanced ❌  \n",
        "It is necessary to drop some data so that the model can learn better with a more balanced dataset ✅"
      ],
      "metadata": {
        "id": "d3ftqodncGWl"
      }
    },
    {
      "cell_type": "code",
      "source": [
        "data = data.sort_values(by = 'multi_disease_label').reset_index()\n",
        "data = data.drop(labels = range(0,5500))"
      ],
      "metadata": {
        "id": "OEK0Es-c2lx2"
      },
      "execution_count": null,
      "outputs": []
    },
    {
      "cell_type": "code",
      "source": [
        "plt.figure(figsize=(8,6))\n",
        "sns.countplot(x=data['Diagnosis'])"
      ],
      "metadata": {
        "colab": {
          "base_uri": "https://localhost:8080/",
          "height": 405
        },
        "id": "JyXInvJ1B8ng",
        "outputId": "49f54264-90af-422f-c2ad-1b863ac5b6ec"
      },
      "execution_count": null,
      "outputs": [
        {
          "output_type": "execute_result",
          "data": {
            "text/plain": [
              "<matplotlib.axes._subplots.AxesSubplot at 0x7f5fb6e3cd50>"
            ]
          },
          "metadata": {},
          "execution_count": 35
        },
        {
          "output_type": "display_data",
          "data": {
            "text/plain": [
              "<Figure size 576x432 with 1 Axes>"
            ],
            "image/png": "[encoded data removed]"
          },
          "metadata": {
            "needs_background": "light"
          }
        }
      ]
    },
    {
      "cell_type": "code",
      "source": [
        "data['multi_disease_label'].value_counts()"
      ],
      "metadata": {
        "colab": {
          "base_uri": "https://localhost:8080/"
        },
        "id": "C5gTUUJP2bzf",
        "outputId": "4b4b18ff-8acf-4701-8b98-8e8077dee122"
      },
      "execution_count": null,
      "outputs": [
        {
          "output_type": "execute_result",
          "data": {
            "text/plain": [
              "1    322\n",
              "5    285\n",
              "0    246\n",
              "2    243\n",
              "4    160\n",
              "3    104\n",
              "Name: multi_disease_label, dtype: int64"
            ]
          },
          "metadata": {},
          "execution_count": 36
        }
      ]
    },
    {
      "cell_type": "markdown",
      "source": [
        "## 2.3 Train Test Split "
      ],
      "metadata": {
        "id": "ljt0mEQCdpsC"
      }
    },
    {
      "cell_type": "code",
      "source": [
        "X = data['Path']\n",
        "y= data['multi_disease_label']\n",
        "X_train, X_test, y_train, y_test = train_test_split(X, y , test_size=0.1, stratify = y )\n",
        "X_train, X_val, y_train, y_val = train_test_split(X_train, y_train , test_size=0.1, stratify = y_train )"
      ],
      "metadata": {
        "id": "lvq5s205NLwr"
      },
      "execution_count": null,
      "outputs": []
    },
    {
      "cell_type": "code",
      "source": [
        "num_classes = data['multi_disease_label'].nunique()"
      ],
      "metadata": {
        "id": "9e42KUIBNOXf"
      },
      "execution_count": null,
      "outputs": []
    },
    {
      "cell_type": "code",
      "source": [
        "train_labels = tf.keras.utils.to_categorical(y_train.values, num_classes=num_classes)\n",
        "test_labels = tf.keras.utils.to_categorical(y_test.values, num_classes=num_classes)\n",
        "val_labels = tf.keras.utils.to_categorical(y_val.values, num_classes=num_classes)"
      ],
      "metadata": {
        "id": "p4CnpDiGNQyl"
      },
      "execution_count": null,
      "outputs": []
    },
    {
      "cell_type": "markdown",
      "source": [
        "# Part 3: Generate Spectrograms and Create Pipeline"
      ],
      "metadata": {
        "id": "risLtqjp_Nfd"
      }
    },
    {
      "cell_type": "markdown",
      "source": [
        "## 3.1 Transform audio to spectrograms\n",
        "\n",
        "It is because CNN model can only be trained by using image but not audio 🔕"
      ],
      "metadata": {
        "id": "NXvdMBcDm-sL"
      }
    },
    {
      "cell_type": "code",
      "source": [
        "def decode_audio(audio_binary):\n",
        "  # Decode WAV-encoded audio files to `float32` tensors, normalized\n",
        "  # to the [-1.0, 1.0] range. Return `float32` audio and a sample rate.\n",
        "  audio, _ = tf.audio.decode_wav(contents=audio_binary)\n",
        "  return tf.squeeze(audio, axis=-1)\n",
        "\n",
        "def get_waveform_and_label(file_path, label):\n",
        "  audio_binary = tf.io.read_file(file_path)\n",
        "  waveform = decode_audio(audio_binary)\n",
        "  return waveform, label\n",
        "\n",
        "train_ds = tf.data.Dataset.from_tensor_slices((X_train, train_labels))\n",
        "train_ds = train_ds.map(map_func=get_waveform_and_label, num_parallel_calls=AUTOTUNE)\n",
        "test_ds = tf.data.Dataset.from_tensor_slices((X_test, test_labels))\n",
        "test_ds = test_ds.map(map_func=get_waveform_and_label, num_parallel_calls=AUTOTUNE)\n",
        "val_ds = tf.data.Dataset.from_tensor_slices((X_val ,val_labels))\n",
        "val_ds = val_ds.map(map_func=get_waveform_and_label, num_parallel_calls=AUTOTUNE)"
      ],
      "metadata": {
        "id": "JSa22AY4NUUe"
      },
      "execution_count": null,
      "outputs": []
    },
    {
      "cell_type": "code",
      "source": [
        "def get_spectrogram(waveform,label):\n",
        "  # Zero-padding for an audio waveform with less than 16,000 samples.\n",
        "  # Cast the waveform tensors' dtype to float32.\n",
        "  waveform = tf.cast(waveform, dtype=tf.float32)\n",
        "  # Concatenate the waveform with `zero_padding`, which ensures all audio\n",
        "  # clips are of the same length.\n",
        "  #equal_length = tf.concat([waveform, zero_padding], 0)\n",
        "  # Convert the waveform to a spectrogram via a STFT.\n",
        "  spectrogram = tf.signal.stft(\n",
        "      waveform, frame_length=255, frame_step=128)\n",
        "  # Obtain the magnitude of the STFT.\n",
        "  spectrogram = tf.abs(spectrogram)\n",
        "\n",
        "  # Add a `channels` dimension, so that the spectrogram can be used\n",
        "  # as image-like input data with convolution layers (which expect\n",
        "  # shape (`batch_size`, `height`, `width`, `channels`).\n",
        "  spectrogram = spectrogram[..., tf.newaxis]\n",
        "  return spectrogram, label\n",
        "\n",
        "train_spec_ds = train_ds.map(map_func=get_spectrogram, num_parallel_calls=AUTOTUNE)\n",
        "test_spec_ds = test_ds.map(map_func=get_spectrogram, num_parallel_calls=AUTOTUNE)\n",
        "val_spec_ds = val_ds.map(map_func=get_spectrogram, num_parallel_calls=AUTOTUNE)"
      ],
      "metadata": {
        "id": "glHux9MNNXwJ"
      },
      "execution_count": null,
      "outputs": []
    },
    {
      "cell_type": "code",
      "source": [
        "batch_size = 16\n",
        "#spec\n",
        "\n",
        "train_ds =  train_spec_ds.batch(batch_size)\n",
        "test_ds = test_spec_ds.batch(batch_size)\n",
        "val_ds =  val_spec_ds.batch(batch_size)\n",
        "\n",
        "#caching\n",
        "'''Add Dataset.cache and Dataset.prefetch operations to reduce read latency while training the model'''\n",
        "train_ds = train_ds.cache().prefetch(AUTOTUNE)\n",
        "test_ds = test_ds.cache().prefetch(AUTOTUNE)\n",
        "val_ds = val_ds.cache().prefetch(AUTOTUNE)"
      ],
      "metadata": {
        "id": "5578FM01Naf9"
      },
      "execution_count": null,
      "outputs": []
    },
    {
      "cell_type": "markdown",
      "source": [
        "# Part 4: Training the moodel 🖥\n",
        "\n",
        "\n",
        "More than 20 models were trained using different kernel size, dropout layers, learning rate. The following model is adopted since it can achieve an average accuracy of 86% 🎉"
      ],
      "metadata": {
        "id": "n5OLGjGdoEaQ"
      }
    },
    {
      "cell_type": "code",
      "source": [
        "Adam = Adam(learning_rate=0.01)\n",
        "\n",
        "es = EarlyStopping(verbose=1, patience=10, restore_best_weights=True)\n",
        "\n",
        "model17 = Sequential()\n",
        "model17.add(layers.Conv2D(32, (12, 12), input_shape=(1032, 129, 1), padding='same', activation='relu'))\n",
        "model17.add(layers.MaxPool2D(pool_size=(6, 6)))\n",
        "model17.add(layers.Dropout(rate=0.2))\n",
        "model17.add(layers.Conv2D(16, (6, 6), padding='same', activation='relu'))\n",
        "model17.add(layers.MaxPool2D(pool_size=(3, 3)))\n",
        "model17.add(layers.Dropout(rate=0.2))\n",
        "model17.add(layers.Conv2D(8, (3, 3), padding='same', activation='relu'))\n",
        "model17.add(layers.MaxPool2D(pool_size=(2, 2)))\n",
        "model17.add(layers.Dropout(rate=0.2))\n",
        "model17.add(layers.Conv2D(4, (2, 2), padding='same', activation='relu'))\n",
        "model17.add(layers.Flatten())\n",
        "model17.add(layers.Dense(10, activation='relu'))\n",
        "model17.add(layers.Dense(num_classes, activation='softmax'))\n",
        "\n",
        "\n",
        "# recall = Recall()\n",
        "model17.compile(loss='categorical_crossentropy',\n",
        "              optimizer='adam',\n",
        "              metrics=['accuracy', tfa.metrics.F1Score(num_classes = num_classes), Recall()])\n",
        "\n",
        "EPOCHS = 70\n",
        "history17 = model17.fit(\n",
        "    train_ds,\n",
        "    validation_data = val_ds, epochs=EPOCHS,  callbacks =[es])"
      ],
      "metadata": {
        "colab": {
          "base_uri": "https://localhost:8080/"
        },
        "id": "SN0Zai9lKMmG",
        "outputId": "3087b789-366c-48d7-e5ba-635db9ec399e"
      },
      "execution_count": null,
      "outputs": [
        {
          "output_type": "stream",
          "name": "stdout",
          "text": [
            "Epoch 1/70\n",
            "69/69 [==============================] - 3s 30ms/step - loss: 1.6754 - accuracy: 0.2625 - f1_score: 0.1912 - recall_2: 0.0545 - val_loss: 1.5382 - val_accuracy: 0.2764 - val_f1_score: 0.1598 - val_recall_2: 0.1138\n",
            "Epoch 2/70\n",
            "69/69 [==============================] - 2s 26ms/step - loss: 1.4580 - accuracy: 0.3588 - f1_score: 0.2658 - recall_2: 0.1381 - val_loss: 1.3343 - val_accuracy: 0.4390 - val_f1_score: 0.3354 - val_recall_2: 0.1707\n",
            "Epoch 3/70\n",
            "69/69 [==============================] - 2s 26ms/step - loss: 1.3744 - accuracy: 0.4332 - f1_score: 0.3378 - recall_2: 0.1817 - val_loss: 1.2601 - val_accuracy: 0.4553 - val_f1_score: 0.3526 - val_recall_2: 0.2033\n",
            "Epoch 4/70\n",
            "69/69 [==============================] - 2s 28ms/step - loss: 1.3025 - accuracy: 0.4396 - f1_score: 0.3509 - recall_2: 0.2116 - val_loss: 1.1938 - val_accuracy: 0.4390 - val_f1_score: 0.3442 - val_recall_2: 0.2276\n",
            "Epoch 5/70\n",
            "69/69 [==============================] - 2s 26ms/step - loss: 1.2491 - accuracy: 0.4687 - f1_score: 0.3840 - recall_2: 0.2371 - val_loss: 1.1771 - val_accuracy: 0.4553 - val_f1_score: 0.3612 - val_recall_2: 0.2195\n",
            "Epoch 6/70\n",
            "69/69 [==============================] - 2s 26ms/step - loss: 1.1988 - accuracy: 0.4968 - f1_score: 0.4346 - recall_2: 0.2425 - val_loss: 1.1337 - val_accuracy: 0.4797 - val_f1_score: 0.3981 - val_recall_2: 0.2358\n",
            "Epoch 7/70\n",
            "69/69 [==============================] - 2s 26ms/step - loss: 1.1676 - accuracy: 0.4923 - f1_score: 0.4647 - recall_2: 0.2652 - val_loss: 1.1179 - val_accuracy: 0.4797 - val_f1_score: 0.4316 - val_recall_2: 0.2764\n",
            "Epoch 8/70\n",
            "69/69 [==============================] - 2s 26ms/step - loss: 1.1054 - accuracy: 0.5413 - f1_score: 0.5221 - recall_2: 0.3206 - val_loss: 1.0899 - val_accuracy: 0.5122 - val_f1_score: 0.4909 - val_recall_2: 0.3089\n",
            "Epoch 9/70\n",
            "69/69 [==============================] - 2s 26ms/step - loss: 1.0870 - accuracy: 0.5504 - f1_score: 0.5293 - recall_2: 0.3379 - val_loss: 1.1001 - val_accuracy: 0.5447 - val_f1_score: 0.5077 - val_recall_2: 0.3252\n",
            "Epoch 10/70\n",
            "69/69 [==============================] - 2s 26ms/step - loss: 1.0229 - accuracy: 0.5949 - f1_score: 0.5842 - recall_2: 0.3706 - val_loss: 1.0511 - val_accuracy: 0.5772 - val_f1_score: 0.5483 - val_recall_2: 0.3577\n",
            "Epoch 11/70\n",
            "69/69 [==============================] - 2s 26ms/step - loss: 0.9823 - accuracy: 0.6013 - f1_score: 0.5975 - recall_2: 0.3960 - val_loss: 0.9669 - val_accuracy: 0.6016 - val_f1_score: 0.5889 - val_recall_2: 0.3984\n",
            "Epoch 12/70\n",
            "69/69 [==============================] - 2s 26ms/step - loss: 0.9249 - accuracy: 0.6185 - f1_score: 0.6171 - recall_2: 0.4460 - val_loss: 0.9515 - val_accuracy: 0.6260 - val_f1_score: 0.6063 - val_recall_2: 0.4553\n",
            "Epoch 13/70\n",
            "69/69 [==============================] - 2s 26ms/step - loss: 0.9226 - accuracy: 0.6303 - f1_score: 0.6243 - recall_2: 0.4478 - val_loss: 0.9617 - val_accuracy: 0.6179 - val_f1_score: 0.5951 - val_recall_2: 0.4472\n",
            "Epoch 14/70\n",
            "69/69 [==============================] - 2s 26ms/step - loss: 0.8490 - accuracy: 0.6521 - f1_score: 0.6567 - recall_2: 0.4850 - val_loss: 0.9476 - val_accuracy: 0.6341 - val_f1_score: 0.6151 - val_recall_2: 0.4634\n",
            "Epoch 15/70\n",
            "69/69 [==============================] - 2s 26ms/step - loss: 0.8000 - accuracy: 0.6748 - f1_score: 0.6760 - recall_2: 0.5204 - val_loss: 0.9845 - val_accuracy: 0.5691 - val_f1_score: 0.5467 - val_recall_2: 0.4472\n",
            "Epoch 16/70\n",
            "69/69 [==============================] - 2s 26ms/step - loss: 0.8165 - accuracy: 0.6549 - f1_score: 0.6557 - recall_2: 0.5114 - val_loss: 0.9295 - val_accuracy: 0.6341 - val_f1_score: 0.6270 - val_recall_2: 0.5041\n",
            "Epoch 17/70\n",
            "69/69 [==============================] - 2s 26ms/step - loss: 0.7624 - accuracy: 0.6885 - f1_score: 0.6944 - recall_2: 0.5413 - val_loss: 0.9358 - val_accuracy: 0.6260 - val_f1_score: 0.6133 - val_recall_2: 0.5122\n",
            "Epoch 18/70\n",
            "69/69 [==============================] - 2s 26ms/step - loss: 0.7535 - accuracy: 0.7021 - f1_score: 0.6984 - recall_2: 0.5522 - val_loss: 0.9021 - val_accuracy: 0.6504 - val_f1_score: 0.6370 - val_recall_2: 0.5366\n",
            "Epoch 19/70\n",
            "69/69 [==============================] - 2s 26ms/step - loss: 0.7374 - accuracy: 0.7057 - f1_score: 0.7113 - recall_2: 0.5713 - val_loss: 0.9462 - val_accuracy: 0.6341 - val_f1_score: 0.5993 - val_recall_2: 0.5203\n",
            "Epoch 20/70\n",
            "69/69 [==============================] - 2s 26ms/step - loss: 0.7352 - accuracy: 0.7112 - f1_score: 0.7086 - recall_2: 0.5631 - val_loss: 0.9368 - val_accuracy: 0.6585 - val_f1_score: 0.6466 - val_recall_2: 0.5122\n",
            "Epoch 21/70\n",
            "69/69 [==============================] - 2s 26ms/step - loss: 0.7260 - accuracy: 0.7121 - f1_score: 0.7058 - recall_2: 0.5713 - val_loss: 0.9454 - val_accuracy: 0.6260 - val_f1_score: 0.6224 - val_recall_2: 0.5203\n",
            "Epoch 22/70\n",
            "69/69 [==============================] - 2s 26ms/step - loss: 0.7417 - accuracy: 0.7021 - f1_score: 0.7042 - recall_2: 0.5686 - val_loss: 0.8714 - val_accuracy: 0.6667 - val_f1_score: 0.6536 - val_recall_2: 0.5366\n",
            "Epoch 23/70\n",
            "69/69 [==============================] - 2s 26ms/step - loss: 0.6620 - accuracy: 0.7430 - f1_score: 0.7415 - recall_2: 0.6122 - val_loss: 0.8816 - val_accuracy: 0.6667 - val_f1_score: 0.6460 - val_recall_2: 0.5122\n",
            "Epoch 24/70\n",
            "69/69 [==============================] - 2s 26ms/step - loss: 0.6555 - accuracy: 0.7393 - f1_score: 0.7361 - recall_2: 0.6231 - val_loss: 0.8723 - val_accuracy: 0.6585 - val_f1_score: 0.6565 - val_recall_2: 0.5285\n",
            "Epoch 25/70\n",
            "69/69 [==============================] - 2s 26ms/step - loss: 0.6518 - accuracy: 0.7466 - f1_score: 0.7520 - recall_2: 0.6340 - val_loss: 0.8578 - val_accuracy: 0.6911 - val_f1_score: 0.6799 - val_recall_2: 0.5447\n",
            "Epoch 26/70\n",
            "69/69 [==============================] - 2s 26ms/step - loss: 0.6359 - accuracy: 0.7493 - f1_score: 0.7543 - recall_2: 0.6394 - val_loss: 0.8670 - val_accuracy: 0.6748 - val_f1_score: 0.6647 - val_recall_2: 0.5447\n",
            "Epoch 27/70\n",
            "69/69 [==============================] - 2s 26ms/step - loss: 0.6289 - accuracy: 0.7448 - f1_score: 0.7438 - recall_2: 0.6340 - val_loss: 0.8494 - val_accuracy: 0.6748 - val_f1_score: 0.6745 - val_recall_2: 0.5610\n",
            "Epoch 28/70\n",
            "69/69 [==============================] - 2s 26ms/step - loss: 0.6113 - accuracy: 0.7602 - f1_score: 0.7645 - recall_2: 0.6485 - val_loss: 0.8600 - val_accuracy: 0.6829 - val_f1_score: 0.6744 - val_recall_2: 0.5610\n",
            "Epoch 29/70\n",
            "69/69 [==============================] - 2s 26ms/step - loss: 0.6268 - accuracy: 0.7439 - f1_score: 0.7471 - recall_2: 0.6521 - val_loss: 0.8680 - val_accuracy: 0.6748 - val_f1_score: 0.6663 - val_recall_2: 0.5528\n",
            "Epoch 30/70\n",
            "69/69 [==============================] - 2s 26ms/step - loss: 0.6030 - accuracy: 0.7611 - f1_score: 0.7644 - recall_2: 0.6612 - val_loss: 0.8283 - val_accuracy: 0.6992 - val_f1_score: 0.6902 - val_recall_2: 0.5935\n",
            "Epoch 31/70\n",
            "69/69 [==============================] - 2s 26ms/step - loss: 0.5550 - accuracy: 0.7875 - f1_score: 0.7908 - recall_2: 0.6912 - val_loss: 0.8321 - val_accuracy: 0.6911 - val_f1_score: 0.6928 - val_recall_2: 0.5772\n",
            "Epoch 32/70\n",
            "69/69 [==============================] - 2s 26ms/step - loss: 0.6073 - accuracy: 0.7511 - f1_score: 0.7548 - recall_2: 0.6839 - val_loss: 0.8906 - val_accuracy: 0.6585 - val_f1_score: 0.6535 - val_recall_2: 0.5935\n",
            "Epoch 33/70\n",
            "69/69 [==============================] - 2s 26ms/step - loss: 0.5918 - accuracy: 0.7620 - f1_score: 0.7655 - recall_2: 0.6685 - val_loss: 0.7826 - val_accuracy: 0.6667 - val_f1_score: 0.6752 - val_recall_2: 0.6179\n",
            "Epoch 34/70\n",
            "69/69 [==============================] - 2s 26ms/step - loss: 0.5605 - accuracy: 0.7838 - f1_score: 0.7905 - recall_2: 0.6939 - val_loss: 0.8195 - val_accuracy: 0.6748 - val_f1_score: 0.6822 - val_recall_2: 0.6016\n",
            "Epoch 35/70\n",
            "69/69 [==============================] - 2s 26ms/step - loss: 0.5627 - accuracy: 0.7711 - f1_score: 0.7815 - recall_2: 0.7012 - val_loss: 0.8558 - val_accuracy: 0.6341 - val_f1_score: 0.6409 - val_recall_2: 0.5691\n",
            "Epoch 36/70\n",
            "69/69 [==============================] - 2s 26ms/step - loss: 0.5583 - accuracy: 0.7784 - f1_score: 0.7859 - recall_2: 0.6939 - val_loss: 0.8144 - val_accuracy: 0.6667 - val_f1_score: 0.6670 - val_recall_2: 0.6179\n",
            "Epoch 37/70\n",
            "69/69 [==============================] - 2s 26ms/step - loss: 0.5808 - accuracy: 0.7611 - f1_score: 0.7725 - recall_2: 0.6821 - val_loss: 0.7783 - val_accuracy: 0.6829 - val_f1_score: 0.6662 - val_recall_2: 0.6179\n",
            "Epoch 38/70\n",
            "69/69 [==============================] - 2s 26ms/step - loss: 0.5064 - accuracy: 0.8038 - f1_score: 0.8116 - recall_2: 0.7175 - val_loss: 0.8137 - val_accuracy: 0.6341 - val_f1_score: 0.6417 - val_recall_2: 0.5772\n",
            "Epoch 39/70\n",
            "69/69 [==============================] - 2s 26ms/step - loss: 0.4911 - accuracy: 0.7965 - f1_score: 0.8044 - recall_2: 0.7221 - val_loss: 0.7885 - val_accuracy: 0.6748 - val_f1_score: 0.6716 - val_recall_2: 0.6260\n",
            "Epoch 40/70\n",
            "69/69 [==============================] - 2s 26ms/step - loss: 0.5074 - accuracy: 0.7947 - f1_score: 0.8016 - recall_2: 0.7302 - val_loss: 0.7440 - val_accuracy: 0.6911 - val_f1_score: 0.6767 - val_recall_2: 0.6341\n",
            "Epoch 41/70\n",
            "69/69 [==============================] - 2s 26ms/step - loss: 0.4999 - accuracy: 0.7929 - f1_score: 0.8024 - recall_2: 0.7284 - val_loss: 0.7929 - val_accuracy: 0.6504 - val_f1_score: 0.6509 - val_recall_2: 0.6098\n",
            "Epoch 42/70\n",
            "69/69 [==============================] - 2s 26ms/step - loss: 0.5217 - accuracy: 0.7929 - f1_score: 0.7991 - recall_2: 0.7248 - val_loss: 0.8087 - val_accuracy: 0.6585 - val_f1_score: 0.6471 - val_recall_2: 0.6098\n",
            "Epoch 43/70\n",
            "69/69 [==============================] - 2s 26ms/step - loss: 0.4866 - accuracy: 0.7993 - f1_score: 0.8096 - recall_2: 0.7330 - val_loss: 0.7361 - val_accuracy: 0.6667 - val_f1_score: 0.6740 - val_recall_2: 0.6260\n",
            "Epoch 44/70\n",
            "69/69 [==============================] - 2s 26ms/step - loss: 0.4684 - accuracy: 0.8120 - f1_score: 0.8147 - recall_2: 0.7530 - val_loss: 0.7487 - val_accuracy: 0.7236 - val_f1_score: 0.7115 - val_recall_2: 0.6667\n",
            "Epoch 45/70\n",
            "69/69 [==============================] - 2s 26ms/step - loss: 0.5017 - accuracy: 0.8002 - f1_score: 0.8066 - recall_2: 0.7466 - val_loss: 0.9214 - val_accuracy: 0.7073 - val_f1_score: 0.6807 - val_recall_2: 0.6748\n",
            "Epoch 46/70\n",
            "69/69 [==============================] - 2s 26ms/step - loss: 0.5122 - accuracy: 0.7866 - f1_score: 0.7951 - recall_2: 0.7348 - val_loss: 0.7237 - val_accuracy: 0.6992 - val_f1_score: 0.6881 - val_recall_2: 0.6260\n",
            "Epoch 47/70\n",
            "69/69 [==============================] - 2s 26ms/step - loss: 0.4777 - accuracy: 0.8238 - f1_score: 0.8334 - recall_2: 0.7629 - val_loss: 0.7374 - val_accuracy: 0.6829 - val_f1_score: 0.6757 - val_recall_2: 0.6260\n",
            "Epoch 48/70\n",
            "69/69 [==============================] - 2s 26ms/step - loss: 0.4521 - accuracy: 0.8238 - f1_score: 0.8346 - recall_2: 0.7657 - val_loss: 0.7458 - val_accuracy: 0.6585 - val_f1_score: 0.6671 - val_recall_2: 0.6016\n",
            "Epoch 49/70\n",
            "69/69 [==============================] - 2s 26ms/step - loss: 0.4279 - accuracy: 0.8302 - f1_score: 0.8394 - recall_2: 0.7693 - val_loss: 0.6919 - val_accuracy: 0.7317 - val_f1_score: 0.7339 - val_recall_2: 0.6829\n",
            "Epoch 50/70\n",
            "69/69 [==============================] - 2s 26ms/step - loss: 0.4163 - accuracy: 0.8338 - f1_score: 0.8429 - recall_2: 0.7793 - val_loss: 0.7434 - val_accuracy: 0.7236 - val_f1_score: 0.7267 - val_recall_2: 0.6341\n",
            "Epoch 51/70\n",
            "69/69 [==============================] - 2s 26ms/step - loss: 0.4258 - accuracy: 0.8247 - f1_score: 0.8319 - recall_2: 0.7820 - val_loss: 0.7516 - val_accuracy: 0.7073 - val_f1_score: 0.6997 - val_recall_2: 0.6667\n",
            "Epoch 52/70\n",
            "69/69 [==============================] - 2s 26ms/step - loss: 0.4469 - accuracy: 0.8274 - f1_score: 0.8350 - recall_2: 0.7657 - val_loss: 0.6733 - val_accuracy: 0.7236 - val_f1_score: 0.7294 - val_recall_2: 0.6992\n",
            "Epoch 53/70\n",
            "69/69 [==============================] - 2s 26ms/step - loss: 0.4704 - accuracy: 0.8256 - f1_score: 0.8314 - recall_2: 0.7838 - val_loss: 0.8143 - val_accuracy: 0.6992 - val_f1_score: 0.6944 - val_recall_2: 0.6423\n",
            "Epoch 54/70\n",
            "69/69 [==============================] - 2s 26ms/step - loss: 0.4708 - accuracy: 0.8193 - f1_score: 0.8272 - recall_2: 0.7421 - val_loss: 0.7348 - val_accuracy: 0.7398 - val_f1_score: 0.7505 - val_recall_2: 0.6829\n",
            "Epoch 55/70\n",
            "69/69 [==============================] - 2s 26ms/step - loss: 0.4350 - accuracy: 0.8329 - f1_score: 0.8468 - recall_2: 0.7702 - val_loss: 0.6980 - val_accuracy: 0.7317 - val_f1_score: 0.7443 - val_recall_2: 0.7073\n",
            "Epoch 56/70\n",
            "69/69 [==============================] - 2s 26ms/step - loss: 0.4242 - accuracy: 0.8429 - f1_score: 0.8540 - recall_2: 0.7965 - val_loss: 0.7027 - val_accuracy: 0.7480 - val_f1_score: 0.7407 - val_recall_2: 0.6829\n",
            "Epoch 57/70\n",
            "69/69 [==============================] - 2s 26ms/step - loss: 0.3932 - accuracy: 0.8538 - f1_score: 0.8597 - recall_2: 0.7938 - val_loss: 0.6962 - val_accuracy: 0.7561 - val_f1_score: 0.7550 - val_recall_2: 0.7073\n",
            "Epoch 58/70\n",
            "69/69 [==============================] - 2s 26ms/step - loss: 0.3646 - accuracy: 0.8547 - f1_score: 0.8677 - recall_2: 0.8129 - val_loss: 0.7116 - val_accuracy: 0.7967 - val_f1_score: 0.7997 - val_recall_2: 0.7236\n",
            "Epoch 59/70\n",
            "69/69 [==============================] - 2s 26ms/step - loss: 0.3793 - accuracy: 0.8529 - f1_score: 0.8629 - recall_2: 0.8165 - val_loss: 0.7763 - val_accuracy: 0.7724 - val_f1_score: 0.7569 - val_recall_2: 0.7317\n",
            "Epoch 60/70\n",
            "69/69 [==============================] - 2s 26ms/step - loss: 0.3871 - accuracy: 0.8520 - f1_score: 0.8629 - recall_2: 0.8074 - val_loss: 0.6691 - val_accuracy: 0.7967 - val_f1_score: 0.7957 - val_recall_2: 0.7154\n",
            "Epoch 61/70\n",
            "69/69 [==============================] - 2s 26ms/step - loss: 0.3507 - accuracy: 0.8629 - f1_score: 0.8712 - recall_2: 0.8202 - val_loss: 0.6456 - val_accuracy: 0.7724 - val_f1_score: 0.7575 - val_recall_2: 0.7317\n",
            "Epoch 62/70\n",
            "69/69 [==============================] - 2s 26ms/step - loss: 0.3622 - accuracy: 0.8610 - f1_score: 0.8699 - recall_2: 0.8211 - val_loss: 0.6899 - val_accuracy: 0.7480 - val_f1_score: 0.7460 - val_recall_2: 0.6992\n",
            "Epoch 63/70\n",
            "69/69 [==============================] - 2s 26ms/step - loss: 0.3543 - accuracy: 0.8556 - f1_score: 0.8643 - recall_2: 0.8147 - val_loss: 0.6418 - val_accuracy: 0.7886 - val_f1_score: 0.7752 - val_recall_2: 0.7642\n",
            "Epoch 64/70\n",
            "69/69 [==============================] - 2s 26ms/step - loss: 0.3629 - accuracy: 0.8683 - f1_score: 0.8719 - recall_2: 0.8374 - val_loss: 0.6917 - val_accuracy: 0.7480 - val_f1_score: 0.7541 - val_recall_2: 0.7073\n",
            "Epoch 65/70\n",
            "69/69 [==============================] - 2s 26ms/step - loss: 0.3612 - accuracy: 0.8629 - f1_score: 0.8715 - recall_2: 0.8292 - val_loss: 0.6823 - val_accuracy: 0.7886 - val_f1_score: 0.7913 - val_recall_2: 0.7398\n",
            "Epoch 66/70\n",
            "69/69 [==============================] - 2s 26ms/step - loss: 0.3557 - accuracy: 0.8719 - f1_score: 0.8807 - recall_2: 0.8429 - val_loss: 0.6683 - val_accuracy: 0.7886 - val_f1_score: 0.7895 - val_recall_2: 0.7561\n",
            "Epoch 67/70\n",
            "69/69 [==============================] - 2s 26ms/step - loss: 0.3369 - accuracy: 0.8738 - f1_score: 0.8817 - recall_2: 0.8411 - val_loss: 0.6655 - val_accuracy: 0.7480 - val_f1_score: 0.7520 - val_recall_2: 0.6992\n",
            "Epoch 68/70\n",
            "69/69 [==============================] - 2s 26ms/step - loss: 0.3019 - accuracy: 0.8828 - f1_score: 0.8894 - recall_2: 0.8520 - val_loss: 0.6525 - val_accuracy: 0.7886 - val_f1_score: 0.7765 - val_recall_2: 0.7805\n",
            "Epoch 69/70\n",
            "69/69 [==============================] - 2s 26ms/step - loss: 0.3444 - accuracy: 0.8692 - f1_score: 0.8765 - recall_2: 0.8420 - val_loss: 0.6964 - val_accuracy: 0.7886 - val_f1_score: 0.7858 - val_recall_2: 0.7642\n",
            "Epoch 70/70\n",
            "69/69 [==============================] - 2s 26ms/step - loss: 0.3197 - accuracy: 0.8883 - f1_score: 0.8946 - recall_2: 0.8492 - val_loss: 0.6314 - val_accuracy: 0.7886 - val_f1_score: 0.7872 - val_recall_2: 0.7642\n"
          ]
        }
      ]
    },
    {
      "cell_type": "markdown",
      "source": [
        "# Part 5: Evaludate the performance"
      ],
      "metadata": {
        "id": "U9dZknYBocGb"
      }
    },
    {
      "cell_type": "markdown",
      "source": [
        "## 5.1 Understand model loss / accuracy"
      ],
      "metadata": {
        "id": "h8gVKIV0GFIE"
      }
    },
    {
      "cell_type": "code",
      "source": [
        "def plot_loss_accuracy(history, title=None):\n",
        "    fig, ax = plt.subplots(1,2, figsize=(20,7))\n",
        "    \n",
        "    # --- LOSS --- \n",
        "    \n",
        "    ax[0].plot(history.history['loss'])\n",
        "    ax[0].plot(history.history['val_loss'])\n",
        "    ax[0].set_title('Model loss')\n",
        "    ax[0].set_ylabel('Loss')\n",
        "    ax[0].set_xlabel('Epoch')\n",
        "#     ax[0].set_ylim((0,3))\n",
        "    ax[0].legend(['Train', 'Test'], loc='best')\n",
        "    ax[0].grid(axis=\"x\",linewidth=0.5)\n",
        "    ax[0].grid(axis=\"y\",linewidth=0.5)\n",
        "    \n",
        "    # --- ACCURACY\n",
        "    \n",
        "    ax[1].plot(history.history['accuracy'])\n",
        "    ax[1].plot(history.history['val_accuracy'])\n",
        "    ax[1].set_title('Model Accuracy')\n",
        "    ax[1].set_ylabel('Accuracy')\n",
        "    ax[1].set_xlabel('Epoch')\n",
        "    ax[1].legend(['Train', 'Test'], loc='best')\n",
        "#     ax[1].set_ylim((0,1))\n",
        "    ax[1].grid(axis=\"x\",linewidth=0.5)\n",
        "    ax[1].grid(axis=\"y\",linewidth=0.5)\n",
        "    \n",
        "    if title:\n",
        "        fig.suptitle(title)"
      ],
      "metadata": {
        "id": "ITiFsvdaT2FY"
      },
      "execution_count": null,
      "outputs": []
    },
    {
      "cell_type": "code",
      "source": [
        "plot_loss_accuracy(history17)"
      ],
      "metadata": {
        "colab": {
          "base_uri": "https://localhost:8080/",
          "height": 458
        },
        "id": "c8TJ6jRpKUtE",
        "outputId": "7c73083c-ac7c-4c94-de6b-ac1bbce78364"
      },
      "execution_count": null,
      "outputs": [
        {
          "output_type": "display_data",
          "data": {
            "image/png": "[encoded data removed]",
            "text/plain": [
              "<Figure size 1440x504 with 2 Axes>"
            ]
          },
          "metadata": {
            "needs_background": "light"
          }
        }
      ]
    },
    {
      "cell_type": "markdown",
      "source": [
        "## 5.2 Classification Report"
      ],
      "metadata": {
        "id": "IV3wEXUHGQB9"
      }
    },
    {
      "cell_type": "code",
      "source": [
        "\n",
        "y_pred17 = np.argmax(model17.predict(test_ds),axis=1)\n",
        "y_true = np.argmax(test_labels,axis=1)\n",
        "print(classification_report(y_true, y_pred17))"
      ],
      "metadata": {
        "colab": {
          "base_uri": "https://localhost:8080/"
        },
        "id": "kekOoJjwK0Xz",
        "outputId": "9ee70df3-d624-4975-b824-cc8709b2fa86"
      },
      "execution_count": null,
      "outputs": [
        {
          "output_type": "stream",
          "name": "stdout",
          "text": [
            "              precision    recall  f1-score   support\n",
            "\n",
            "           0       1.00      0.96      0.98        25\n",
            "           1       0.73      0.94      0.82        32\n",
            "           2       0.80      0.83      0.82        24\n",
            "           3       1.00      0.90      0.95        10\n",
            "           4       1.00      0.56      0.72        16\n",
            "           5       0.82      0.79      0.81        29\n",
            "\n",
            "    accuracy                           0.85       136\n",
            "   macro avg       0.89      0.83      0.85       136\n",
            "weighted avg       0.86      0.85      0.84       136\n",
            "\n"
          ]
        }
      ]
    },
    {
      "cell_type": "markdown",
      "source": [
        "## 5.3 Confusion Matrix"
      ],
      "metadata": {
        "id": "e34_VqWmGN-m"
      }
    },
    {
      "cell_type": "code",
      "source": [
        "bconfusion_mtx = tf.math.confusion_matrix(y_true, y_pred17)\n",
        "plt.figure(figsize=(10, 8))\n",
        "sns.heatmap(confusion_mtx,\n",
        "            annot=True, fmt='g')\n",
        "plt.xlabel('Prediction')\n",
        "plt.ylabel('Label')\n",
        "plt.show()"
      ],
      "metadata": {
        "colab": {
          "base_uri": "https://localhost:8080/",
          "height": 497
        },
        "id": "QrAyYv2hK8qF",
        "outputId": "50832863-5f3e-4b3b-91af-30d8d9267305"
      },
      "execution_count": null,
      "outputs": [
        {
          "output_type": "display_data",
          "data": {
            "image/png": "[encoded data removed]",
            "text/plain": [
              "<Figure size 720x576 with 2 Axes>"
            ]
          },
          "metadata": {
            "needs_background": "light"
          }
        }
      ]
    },
    {
      "cell_type": "code",
      "source": [
        "model17.save('/content/drive/MyDrive/Deep_Breath/saved_models/resp_model_v4_model17_Tracy.h5')"
      ],
      "metadata": {
        "id": "U_1wGKV7SlmC"
      },
      "execution_count": null,
      "outputs": []
    }
  ]
}